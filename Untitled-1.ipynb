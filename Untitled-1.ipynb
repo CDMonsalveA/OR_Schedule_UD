{
 "cells": [
  {
   "cell_type": "code",
   "execution_count": 1,
   "metadata": {},
   "outputs": [],
   "source": [
    "#@title SetUp\n",
    "%pip install ortools\n",
    "%pip install matplotlib\n",
    "%pip install pandas\n",
    "%pip install openpyxl\n",
    "from IPython.display import clear_output\n",
    "clear_output()\n",
    "import pandas as pd"
   ]
  },
  {
   "cell_type": "code",
   "execution_count": 2,
   "metadata": {},
   "outputs": [
    {
     "data": {
      "text/plain": [
       "15"
      ]
     },
     "execution_count": 2,
     "metadata": {},
     "output_type": "execute_result"
    }
   ],
   "source": [
    "Horas_disponibles = range(6,21)\n",
    "\n",
    "Base = pd.read_excel(\"Horarios 5 Enero de 2023.xlsx\", \"Horarios_por_salón\")\n",
    "# Extracción de todas las materias\n",
    "Materias = Base[['Proyecto Curricular','Espacio Academico','Grupo','Capacidad','DÃ\\x8da']].drop_duplicates()\n",
    "\n",
    "\n",
    "Demanda_salones = pd.pivot_table(Base, values='Grupo',index='Proyecto Curricular', columns=['Capacidad','DÃ\\x8da'], aggfunc='count')\n",
    "Capacidades = Base[['SEDE','SALÃ“N','Capacidad']].groupby(['SEDE','SALÃ“N']).max()\n",
    "Capacidades['Horas Disponibles'] = Capacidades.apply(lambda x: x*len(Horas_disponibles))\n",
    "len(Horas_disponibles)\n",
    "\n"
   ]
  },
  {
   "cell_type": "markdown",
   "metadata": {},
   "source": []
  },
  {
   "cell_type": "code",
   "execution_count": null,
   "metadata": {},
   "outputs": [],
   "source": []
  }
 ],
 "metadata": {
  "kernelspec": {
   "display_name": ".venv",
   "language": "python",
   "name": "python3"
  },
  "language_info": {
   "codemirror_mode": {
    "name": "ipython",
    "version": 3
   },
   "file_extension": ".py",
   "mimetype": "text/x-python",
   "name": "python",
   "nbconvert_exporter": "python",
   "pygments_lexer": "ipython3",
   "version": "3.11.1 (tags/v3.11.1:a7a450f, Dec  6 2022, 19:58:39) [MSC v.1934 64 bit (AMD64)]"
  },
  "orig_nbformat": 4,
  "vscode": {
   "interpreter": {
    "hash": "f8b17ac612b790ffaf4d7cebbc41f0bb037fc9e10203bd6a20617d584903a2e5"
   }
  }
 },
 "nbformat": 4,
 "nbformat_minor": 2
}
